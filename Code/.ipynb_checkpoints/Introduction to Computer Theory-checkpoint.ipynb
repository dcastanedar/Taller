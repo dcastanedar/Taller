{
 "cells": [
  {
   "cell_type": "markdown",
   "metadata": {
    "deletable": true,
    "editable": true
   },
   "source": [
    " # <center>Primer Taller</center>\n",
    " ##### <div><span style=\"float:left\"> Presentado por: Juan David García Niño <br><br>Código: 28791144</span> </div><br><br>\n",
    " #### Primer punto\n",
    " * <div align=\"justify\"> Considere el problema de determinar si un código corresponde a un ISBN de 13 dígitos. Construya un autómata finito determinístico para identificar si un código es válido o no. Especifique formalmente el autómata, dibuje el diagrama y la tabla de transiciones. Implemente el autómata correspondiente utilizado una clase autómata.</div>\n"
   ]
  },
  {
   "cell_type": "markdown",
   "metadata": {
    "deletable": true,
    "editable": true
   },
   "source": [
    "#### Segundo punto\n",
    "\n",
    "* <div align=\"justify\">Construya un autómata finito determinístico sobre el alfabeto {a,b} la cual acepte todas las cadenas que contengan NO más de dos ocurrencias consecutivas de la misma entrada (Por ejemplo, abba es aceptada y abbba no es aceptada). Especifique formalmente el autómata, dibuje el diagrama y la tabla de transiciones.\n",
    "\n",
    "#### Definición Formal: <br>\n",
    "<i>A = ( Q,  &Sigma;,  &delta;,  q<sub>0</sub>,  F ) = ( {q<sub>0</sub>,q<sub>1</sub>,q<sub>2</sub>,q<sub>3</sub>,q<sub>4</sub>,q<sub>5</sub>,q<sub>6</sub>}, {a,b}, &delta;, q<sub>0</sub>, {q<sub>0</sub>,q<sub>1</sub>,q<sub>2</sub>,q<sub>4</sub>,q<sub>5</sub>} )</i><br> <br>\n",
    "$Diagrama$\n",
    "<img src=\"../images/Punto2.png\"WIDTH=600 HEIGHT=1000 align=\"center\">\n",
    "\n",
    "$Tabla$ $de$ $transiciones$\n",
    "<img src=\"../images/TablaPunto2.png\"WIDTH=400 HEIGHT=600 align=\"center\"></div>"
   ]
  },
  {
   "cell_type": "markdown",
   "metadata": {
    "deletable": true,
    "editable": true
   },
   "source": [
    "#### Tercer punto\n",
    "\n",
    "* <div align=\"justify\">Dado un autómata finito determinístico $M$, construya un nuevo autómata finito determinístico $M'$ con el mismo alfabeto de entrada y con la propiedad de que para todos los , &mu; &in; &Sigma;&#42;, es aceptado por $M'$ si y  solo si NO es aceptado por $M$ .<br><br>\n",
    "Se tiene que $M$ es:<br><br>\n",
    "<center>$M$ = ( Q,  &Sigma;&#42;,  &delta;,  q<sub>0</sub>,  F)<br></center><br>\n",
    "Y que las palabras aceptadas por $M$, son el lenguage definido por:<br><br>\n",
    "<center>$L(M)$ = (w &in; &Sigma; &#42; | &delta;(q<sub>0</sub>, w) &in; F)<br></center><br>\n",
    "Donde &Sigma;* es la unión de $L(M)$ y las palabras que no acepta el autómata $M$.<br><br>\n",
    "<center><i>&Sigma;&#42; = $L(M)$ U {W &in; &Sigma;&#42; | &delta;(q<sub>0</sub>, w) &notin; F}</i><br></center><br> \n",
    "Donde<i> &delta;(q<sub>0</sub>, w) &notin; F </i> es :<br><br>\n",
    "<center><i>&delta;(q<sub>0</sub>, w) &in; F' </i></center><br>\n",
    "Donde <i> F' </i> = <i>( Q - F ), es decir los estados finales  son los estados de <i> M </i> menos sus estados finales</i> <br> Se tiene que $M'$ acepta todas las palabras que no son aceptadas en $M$, ya que sus estados finales son <i> F' </i>  <br>\n",
    "Podemos decir que el autómata $M'$ se define como:<br>\n",
    "<center>$M'$ = ( Q,  &Sigma;,  &delta;,  q<sub>0</sub>,  F')<br></center><br></div>\n",
    "\n"
   ]
  },
  {
   "cell_type": "markdown",
   "metadata": {
    "deletable": true,
    "editable": true
   },
   "source": [
    "#### Cuarto punto\n",
    "* <div align=\"justify\"> <h>Dados dos autómatas finitos determinísticos <i>M</i><sub>1</sub> y <i>M</i><sub>2</sub> con el mismo alfabeto de entrada, construya un tercer autómata finito determinístico (<i>M</i>) con la propiedad &mu; &isin; &Sigma;* que es aceptado por <i>M</i> si y solo si es aceptado por ambos  <i>M</i><sub>1</sub> y <i>M</i><sub>2</sub>.  </h><br>\n",
    "\n",
    "<br>Tenemos entonces:<br><br>\n",
    "\n",
    "<center><i>M</i><sub>1</sub> = { Q<sub>1</sub>,  &Sigma;,  &delta;<sub>1</sub>,  q<sub>1</sub>,  F<sub>1</sub>}<br>\n",
    "<i>M</i><sub>2</sub> = { Q<sub>2</sub>,  &Sigma;,  &delta;<sub>2</sub>,  q<sub>2</sub>,  F<sub>2</sub>}<br></center>\n",
    "\n",
    "Por tanto nuestro tercer autómata debe ser de la forma:<br><br>\n",
    "\n",
    "<center><i>M</i><sub>3</sub> = { Q<sub>3</sub>,  &Sigma;,  &delta;<sub>3</sub>,  q<sub>3</sub>, F<sub>3</sub>}<br><br></center>\n",
    "\n",
    "Para que pueda cumplir la condicion tenemos que Q<sub>3</sub> lo definimos como producto cruz entre Q<sub>1</sub> y Q<sub>2</sub>: <br><br>\n",
    "\n",
    "<center>Q<sub>3</sub>  =  Q<sub>1</sub>  x  Q<sub>2</sub><br><br></center>\n",
    "\n",
    "Y que la función de transición para M<sub>3</sub> la podemos describir así:<br><br>\n",
    "<center>&delta;<sub>1</sub>(  i,  a ) = ( L )<br>\n",
    "&delta;<sub>2</sub>(  j,  a ) = ( M )<br>\n",
    "&delta;<sub>3</sub>( ( i,  j ),  a ) = ( L,  M )<br><br></center>\n",
    "\n",
    "El estado inicial de Q<sub>3</sub> puede representarse como:<br><br>\n",
    "<center>q<sub>3</sub>  =  ( q<sub>1</sub>,   q<sub>2</sub> )<br><br></center>\n",
    "\n",
    "Y el conjunto de estados finales seria:<br><br>\n",
    "<center>F<sub>3</sub>  =  F<sub>1</sub>  x  F<sub>2</sub><br><br></center></div>\n"
   ]
  },
  {
   "cell_type": "markdown",
   "metadata": {
    "deletable": true,
    "editable": true
   },
   "source": [
    "#### Quinto punto\n",
    "* <div align=\"justify\"> Construya un autómata finito no determinístico que permita aceptar palabras sobre el alfabeto {1, 2, 3} tal que el último símbolo aparezca al menos dos veces, pero sin la intervención de un símbolo superior en la mitad. Por ejemplo, 11, 2112, 123113, 3212113, etc.</div> <br>\n",
    "$Diagrama$\n",
    "<img src=\"../images/Punto5.png\"WIDTH=900 HEIGHT=1000 align=\"center\">\n",
    "$Tabla$ $de$ $transiciones$\n",
    "<img src=\"../images/TablaPunto5.png\"WIDTH=500 HEIGHT=400 align=\"center\"> </div>"
   ]
  },
  {
   "cell_type": "markdown",
   "metadata": {
    "deletable": true,
    "editable": true
   },
   "source": [
    "#### Sexto punto\n",
    "* <div align=\"justify\"> Escriba un autómata que reconozca todos las cadenas sobre { 0, 1} que representan números binarios que son divisibles por <i>5</i>. Por ejemplo, 0, 101, 1010, 1111, 11001.\n",
    "\n",
    "\n",
    "<h>Un número es divisible por 5 si y solo si termina en 5 o en 0; con base en esto podemos ver con la operación <i>modulo(%) que:</i><br><br>\n",
    "&#8903;<i>M % 5 = 0</i>, entonces M es múltiplo de 5.<br>\n",
    "&#8903;<i>M % 5 = 1</i>, entonces M es múltiplo de 5 si y solo si M+4.<br>\n",
    "&#8903;<i>M % 5 = 2</i>, entonces M es múltiplo de 5 si y solo si M+3.<br>\n",
    "&#8903;<i>M % 5 = 3</i>, entonces M es múltiplo de 5 si y solo si M+2.<br>\n",
    "&#8903;<i>M % 5 = 4</i>, entonces M es múltiplo de 5 si y solo si M+1.<br><br>\n",
    "Tenemos que:<br><br>\n",
    "&#8903;<i>M % 5 = 0</i>: <i> Mx % 5 = 0 </i> con <i>x = \"0\"</i> y que <i>M % 5 = 1 </i>con <i> x = \"1\"</i>.<br>\n",
    "&#8903;<i>M % 5 = 1</i>: <i> Mx % 5 = 2 </i> con <i>x = \"0\"</i> y que <i>M % 5 = 3 </i>con <i> x = \"1\"</i>.<br>\n",
    "&#8903;<i>M % 5 = 2</i>: <i> Mx % 5 = 4 </i> con <i>x = \"0\"</i> y que <i>M % 5 = 0 </i>con <i> x = \"1\"</i>.<br>\n",
    "&#8903;<i>M % 5 = 3</i>: <i> Mx % 5 = 1 </i> con <i>x = \"0\"</i> y que <i>M % 5 = 2 </i>con <i> x = \"1\"</i>.<br>\n",
    "&#8903;<i>M % 5 = 4</i>: <i> Mx % 5 = 3 </i> con <i>x = \"0\"</i> y que <i>M % 5 = 4 </i>con <i> x = \"1\"</i>.<br><br>\n",
    "Procedemos a crear nuestra tabla de transiciones:\n",
    "<img src=\"../images/Tabla6A.png\"WIDTH=300 HEIGHT=350 align=\"center\"><br>\n",
    "<div align=\"justify\">Ya que la palabra vacia no es considerada múltiplo de 5 es necesario excluirla del autómata, por lo tanto creamos una nueva tabla de transición agregando el estado <i>w</i>, tal que <i>w</i> sea nuestro nuevo estado inicial el cual no permite que la palabra vacia sea aceptada por nuestro autómata:</div>\n",
    "<img src=\"../images/Tabla6B.png\"WIDTH=300 HEIGHT=350 align=\"center\"><br>\n",
    "$Diagrama$\n",
    "<img src=\"../images/Punto6.png\"WIDTH=500 HEIGHT=800 align=\"center\"></div>\n",
    "\n"
   ]
  },
  {
   "cell_type": "markdown",
   "metadata": {
    "deletable": true,
    "editable": true
   },
   "source": [
    "#### Séptimo punto\n",
    "* <h><div align=\"justify\">Un sistema de transiciones es una generalización de los autómata finito no determinísticos con &epsilon;-transiciones, en la cual se admiten transiciones adicionales con palabras de longitud mayor o igual a 1. De una definición formal de los sistemas de transiciones, y pruebe que los lenguajes aceptados por un sistema de transiciones son aceptados por un DFA.</div> </h>"
   ]
  },
  {
   "cell_type": "markdown",
   "metadata": {
    "deletable": true,
    "editable": true
   },
   "source": [
    "#### Octavo punto\n",
    "* <h><div align=\"justify\">Pruebe o desapruebe la siguiente afirmación: El siguiente autómata acepta el lenguaje<br> <i>L</i> = { <i>w | w = a<sup>i</sup> b<sup>j</sup> o w = a<sup>i</sup> c<sup>j</sup>, i &ge; 1, j &ge; 1 </i>} <h>\n",
    "<img src=\"../images/AuEx.png\"WIDTH=500 HEIGHT=800 align=\"center\">\n",
    "<h>  Es falso, ya que para que un autómata acepte un lenguage debe aceptar cada una de las palabras que contiene el lenguage.<br>Como el autómata anterior no acepta la palabra <i>ac</i>este automata no acepta el lenguaje definido anteriormente:<br>\n",
    "<i>L</i> = { <i>w | w = a<sup>i</sup> b<sup>j</sup> o w = a<sup>i</sup> c<sup>j</sup>, i &ge; 1, j &ge; 1 </i>}</h></h></div>"
   ]
  },
  {
   "cell_type": "markdown",
   "metadata": {
    "deletable": true,
    "editable": true
   },
   "source": [
    "#### Noveno punto\n",
    "* <div align=\"justify\">Respecto al uso de autómatas (máquinas de estado finito) para el diseño de personajes de video juegos:<br><br>\n",
    "\n",
    "&#8903; ¿Cúales con las ventajas del uso de la abstracción de maquinas de estado frente a una implementación utlizando condicionales?<br><br>\n",
    "\n",
    "&#8903; ¿Cómo se utilizan los autómatas en el diseño de personajes para video juegos?<br><br>\n",
    " En videojuegos los autómatas son muy usados, como el caso de metal slug, en el que se encargan de las diferentes acciones del personaje como saltar, correr hacia la derecha, hacia la izquierda, lanzar una granada o disparar hacia cualquiera de los cuatro lados(arriba, abajo,izquierda,derecha).<br><br>\n",
    "\n",
    "&#8903; Seleccione su personaje de video juegos parecido, especifique formalmente su autómata, encuentre el lenguaje aceptado por el automata, pruebe que el lenguaje propuesto efectivamente es aceptado por el autómata. Seleccione un personaje con al menos cuatro estados y 4 acciones.<br></div>"
   ]
  },
  {
   "cell_type": "code",
   "execution_count": null,
   "metadata": {
    "collapsed": true
   },
   "outputs": [],
   "source": []
  }
 ],
 "metadata": {
  "kernelspec": {
   "display_name": "Python 3",
   "language": "python",
   "name": "python3"
  },
  "language_info": {
   "codemirror_mode": {
    "name": "ipython",
    "version": 3
   },
   "file_extension": ".py",
   "mimetype": "text/x-python",
   "name": "python",
   "nbconvert_exporter": "python",
   "pygments_lexer": "ipython3",
   "version": "3.6.0"
  }
 },
 "nbformat": 4,
 "nbformat_minor": 2
}
